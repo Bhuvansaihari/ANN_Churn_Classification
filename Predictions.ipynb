{
 "cells": [
  {
   "cell_type": "code",
   "execution_count": 2,
   "metadata": {},
   "outputs": [],
   "source": [
    "import tensorflow as tf\n",
    "import pickle\n",
    "import pandas as pd\n",
    "import numpy as np\n",
    "from tensorflow.keras.models import load_model"
   ]
  },
  {
   "cell_type": "code",
   "execution_count": 4,
   "metadata": {},
   "outputs": [
    {
     "name": "stderr",
     "output_type": "stream",
     "text": [
      "WARNING:absl:Compiled the loaded model, but the compiled metrics have yet to be built. `model.compile_metrics` will be empty until you train or evaluate the model.\n"
     ]
    }
   ],
   "source": [
    "## Load the trained model , scaler pickle ,one hot \n",
    "\n",
    "model = load_model('model.h5')\n",
    "\n",
    "## Load the encoder and scaler \n",
    "\n",
    "with open('label_encoder_gender.pkl','rb') as file:\n",
    "    label_encoder_gender = pickle.load(file)\n",
    "\n",
    "with open('one_hot_encoder_geo.pkl','rb') as file:\n",
    "    one_hot_encoder_geo = pickle.load(file)\n",
    "\n",
    "with open('scaler.pkl','rb') as file:\n",
    "\n",
    "    scaler = pickle.load(file)\n",
    "\n",
    "\n"
   ]
  },
  {
   "cell_type": "code",
   "execution_count": 8,
   "metadata": {},
   "outputs": [
    {
     "name": "stdout",
     "output_type": "stream",
     "text": [
      "[array(['France', 'Germany', 'Spain'], dtype=object)]\n"
     ]
    }
   ],
   "source": [
    "print(one_hot_encoder_geo.categories_)\n"
   ]
  },
  {
   "cell_type": "code",
   "execution_count": 9,
   "metadata": {},
   "outputs": [
    {
     "name": "stdout",
     "output_type": "stream",
     "text": [
      "['Female' 'Male']\n"
     ]
    }
   ],
   "source": [
    "print(label_encoder_gender.classes_)\n"
   ]
  },
  {
   "cell_type": "code",
   "execution_count": 16,
   "metadata": {},
   "outputs": [
    {
     "name": "stdout",
     "output_type": "stream",
     "text": [
      "Final Encoded DataFrame:\n",
      "   CreditScore  Gender  Age  Tenure  Balance  NumOfProducts  HasCrCard  \\\n",
      "0          619       0   42       2        0              1          1   \n",
      "\n",
      "   IsActiveMember  EstimatedSalary  France  Germany  Spain  \n",
      "0               1        101348.88     1.0      0.0    0.0  \n"
     ]
    },
    {
     "name": "stderr",
     "output_type": "stream",
     "text": [
      "e:\\csv file\\venv\\Lib\\site-packages\\sklearn\\preprocessing\\_label.py:129: DataConversionWarning: A column-vector y was passed when a 1d array was expected. Please change the shape of y to (n_samples, ), for example using ravel().\n",
      "  y = column_or_1d(y, dtype=self.classes_.dtype, warn=True)\n"
     ]
    }
   ],
   "source": [
    "import pickle\n",
    "import pandas as pd\n",
    "\n",
    "# Load the one-hot encoder for Geography\n",
    "with open(\"one_hot_encoder_geo.pkl\", \"rb\") as file:\n",
    "    one_hot_encoder_geo = pickle.load(file)\n",
    "\n",
    "# Load the label encoder for Gender\n",
    "with open(\"label_encoder_gender.pkl\", \"rb\") as file:\n",
    "    label_encoder_gender = pickle.load(file)\n",
    "\n",
    "# Example input data\n",
    "input_data = {\n",
    "    'CreditScore': 619,\n",
    "    'Geography': 'France',\n",
    "    'Gender': 'Female',\n",
    "    'Age': 42,\n",
    "    'Tenure': 2,\n",
    "    'Balance': 0,\n",
    "    'NumOfProducts': 1,\n",
    "    'HasCrCard': 1,\n",
    "    'IsActiveMember': 1,\n",
    "    'EstimatedSalary': 101348.88\n",
    "}\n",
    "\n",
    "# Convert to DataFrame\n",
    "input_df = pd.DataFrame([input_data])\n",
    "\n",
    "# Encode 'Gender' (Label Encoding)\n",
    "input_df['Gender'] = label_encoder_gender.transform(input_df[['Gender']])\n",
    "\n",
    "# Encode 'Geography' (One-Hot Encoding)\n",
    "geo_transformed = one_hot_encoder_geo.transform(input_df[['Geography']])\n",
    "geo_columns = one_hot_encoder_geo.categories_[0]\n",
    "\n",
    "# Create DataFrame for one-hot encoded values\n",
    "geo_df = pd.DataFrame(geo_transformed, columns=geo_columns, index=input_df.index)\n",
    "\n",
    "# Concatenate with the main DataFrame and drop original categorical columns\n",
    "input_df = pd.concat([input_df, geo_df], axis=1).drop(columns=['Geography'])\n",
    "\n",
    "print(\"Final Encoded DataFrame:\")\n",
    "print(input_df)\n"
   ]
  },
  {
   "cell_type": "code",
   "execution_count": 18,
   "metadata": {},
   "outputs": [
    {
     "name": "stdout",
     "output_type": "stream",
     "text": [
      "Columns in input_df: ['CreditScore', 'Gender', 'Age', 'Tenure', 'Balance', 'NumOfProducts', 'HasCrCard', 'IsActiveMember', 'EstimatedSalary', 'France', 'Germany', 'Spain']\n"
     ]
    }
   ],
   "source": [
    "print(\"Columns in input_df:\", input_df.columns.tolist())\n"
   ]
  },
  {
   "cell_type": "code",
   "execution_count": 20,
   "metadata": {},
   "outputs": [
    {
     "name": "stdout",
     "output_type": "stream",
     "text": [
      "Scaled DataFrame:\n",
      "     Gender       Age    Tenure   Balance  NumOfProducts  HasCrCard  \\\n",
      "0 -0.774597  0.344214 -0.811503 -1.263113      -1.459601   0.377964   \n",
      "\n",
      "   IsActiveMember  EstimatedSalary  Geography_France  Geography_Germany  \\\n",
      "0        1.290994         0.339778         -1.290994          -0.377964   \n",
      "\n",
      "   Geography_Spain  \n",
      "0         -0.57735  \n"
     ]
    }
   ],
   "source": [
    "import pickle\n",
    "import pandas as pd\n",
    "\n",
    "# Load the scaler\n",
    "with open(\"scaler.pkl\", \"rb\") as file:\n",
    "    scaler = pickle.load(file)\n",
    "\n",
    "# Ensure input_df has the same column order as during training\n",
    "expected_columns = scaler.feature_names_in_\n",
    "\n",
    "# Reorder and add missing columns (fill with 0 if missing)\n",
    "input_df = input_df.reindex(columns=expected_columns, fill_value=0)\n",
    "\n",
    "# Apply scaling\n",
    "scaled_input = scaler.transform(input_df)\n",
    "\n",
    "# Convert scaled data back to a DataFrame (optional)\n",
    "scaled_df = pd.DataFrame(scaled_input, columns=input_df.columns)\n",
    "\n",
    "print(\"Scaled DataFrame:\")\n",
    "print(scaled_df)\n"
   ]
  },
  {
   "cell_type": "code",
   "execution_count": 21,
   "metadata": {},
   "outputs": [
    {
     "name": "stdout",
     "output_type": "stream",
     "text": [
      "\u001b[1m1/1\u001b[0m \u001b[32m━━━━━━━━━━━━━━━━━━━━\u001b[0m\u001b[37m\u001b[0m \u001b[1m0s\u001b[0m 332ms/step\n"
     ]
    },
    {
     "data": {
      "text/plain": [
       "array([[0.26572576]], dtype=float32)"
      ]
     },
     "execution_count": 21,
     "metadata": {},
     "output_type": "execute_result"
    }
   ],
   "source": [
    "## predicting whether the customer is likely to exit or not\n",
    "\n",
    "prediction = model.predict(scaled_input)\n",
    "prediction"
   ]
  },
  {
   "cell_type": "code",
   "execution_count": 22,
   "metadata": {},
   "outputs": [
    {
     "data": {
      "text/plain": [
       "np.float32(0.26572576)"
      ]
     },
     "execution_count": 22,
     "metadata": {},
     "output_type": "execute_result"
    }
   ],
   "source": [
    "prediction_proba = prediction[0][0]\n",
    "prediction_proba"
   ]
  },
  {
   "cell_type": "code",
   "execution_count": 23,
   "metadata": {},
   "outputs": [
    {
     "name": "stdout",
     "output_type": "stream",
     "text": [
      "Customer is not likely to exit\n"
     ]
    }
   ],
   "source": [
    "if prediction_proba>0.5:\n",
    "    print(\"Customer is likely to exit \")\n",
    "else:\n",
    "    print(\"Customer is not likely to exit\")"
   ]
  },
  {
   "cell_type": "code",
   "execution_count": null,
   "metadata": {},
   "outputs": [],
   "source": []
  }
 ],
 "metadata": {
  "kernelspec": {
   "display_name": "Python 3",
   "language": "python",
   "name": "python3"
  },
  "language_info": {
   "codemirror_mode": {
    "name": "ipython",
    "version": 3
   },
   "file_extension": ".py",
   "mimetype": "text/x-python",
   "name": "python",
   "nbconvert_exporter": "python",
   "pygments_lexer": "ipython3",
   "version": "3.11.0"
  }
 },
 "nbformat": 4,
 "nbformat_minor": 2
}
